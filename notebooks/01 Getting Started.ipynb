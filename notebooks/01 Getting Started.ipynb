{
 "cells": [
  {
   "cell_type": "markdown",
   "metadata": {},
   "source": [
    "# Imports\n",
    "\n",
    "All you need for plotting is `matplotlib.pyplot`. `numpy` will be used to create artificial data."
   ]
  },
  {
   "cell_type": "code",
   "execution_count": 1,
   "metadata": {
    "collapsed": false
   },
   "outputs": [],
   "source": [
    "import matplotlib.pyplot as plt\n",
    "import numpy as np\n",
    "%matplotlib inline"
   ]
  },
  {
   "cell_type": "markdown",
   "metadata": {},
   "source": [
    "`%matplotlib inline` is notbook magic to show plots like normal output below notebook cells. This won't work in normal python scripts. To view plots when using normal python scripts use `plt.show()` at the end of creating your plot."
   ]
  },
  {
   "cell_type": "markdown",
   "metadata": {},
   "source": [
    "# Data\n",
    "For the first plot we will use a 1D-array of size [10000] called `data`. Its entries are draw from a gaussian with $\\mathcal{N}(\\mu=0, \\sigma=0.5)$ Later we use similar sets called `subset_1` and `2` with a entries drawn from gaussians with mean $\\mu=-1$ and $\\mu=1$."
   ]
  },
  {
   "cell_type": "code",
   "execution_count": 348,
   "metadata": {
    "collapsed": false
   },
   "outputs": [
    {
     "name": "stdout",
     "output_type": "stream",
     "text": [
      "(1000000,)\n"
     ]
    }
   ],
   "source": [
    "size = 1000000\n",
    "data = np.random.normal(0, 0.5, size=[size])\n",
    "subset_1 = np.random.normal(-1, 0.5, size=[size])\n",
    "subset_2 = np.random.normal(1, 0.5, size=[size])\n",
    "\n",
    "print data.shape"
   ]
  },
  {
   "cell_type": "markdown",
   "metadata": {},
   "source": [
    "# Histogram"
   ]
  },
  {
   "cell_type": "code",
   "execution_count": 351,
   "metadata": {
    "collapsed": false
   },
   "outputs": [
    {
     "data": {
      "text/plain": [
       "(array([  4.50000000e+01,   1.57700000e+03,   2.33240000e+04,\n",
       "          1.38002000e+05,   3.35047000e+05,   3.35388000e+05,\n",
       "          1.40431000e+05,   2.43660000e+04,   1.77300000e+03,\n",
       "          4.70000000e+01]),\n",
       " array([-2.44257507, -1.95477287, -1.46697067, -0.97916847, -0.49136627,\n",
       "        -0.00356407,  0.48423813,  0.97204033,  1.45984254,  1.94764474,\n",
       "         2.43544694]),\n",
       " <a list of 10 Patch objects>)"
      ]
     },
     "execution_count": 351,
     "metadata": {},
     "output_type": "execute_result"
    },
    {
     "data": {
      "image/png": "[encoded data removed]",
      "text/plain": [
       "<matplotlib.figure.Figure at 0x7f073042fb90>"
      ]
     },
     "metadata": {},
     "output_type": "display_data"
    }
   ],
   "source": [
    "plt.hist(data)"
   ]
  },
  {
   "cell_type": "markdown",
   "metadata": {},
   "source": [
    "## The most important commands\n",
    "\n",
    "### TODO:\n",
    "Here: xkcd relationship no axis labels"
   ]
  },
  {
   "cell_type": "code",
   "execution_count": 352,
   "metadata": {
    "collapsed": false
   },
   "outputs": [
    {
     "data": {
      "text/plain": [
       "<matplotlib.text.Text at 0x7f0730c99f50>"
      ]
     },
     "execution_count": 352,
     "metadata": {},
     "output_type": "execute_result"
    },
    {
     "data": {
      "image/png": "[encoded data removed]",
      "text/plain": [
       "<matplotlib.figure.Figure at 0x7f07328b6290>"
      ]
     },
     "metadata": {},
     "output_type": "display_data"
    }
   ],
   "source": [
    "plt.hist(data)\n",
    "plt.xlabel('value')\n",
    "plt.ylabel('counts')"
   ]
  },
  {
   "cell_type": "markdown",
   "metadata": {},
   "source": [
    "## Customizations: \n",
    "\n",
    "Change\n",
    "- the color of the bars by passing the `fc=color` keyword. The color can be a string with the name of the color, e.g. `'red'`, but also an `rgb` or even `rgba` array like `[0, 0, 1]` or `[0, 0, 1, 0.5]`. Alternatively you can also pass in a string with the hexadecimal description of a color, as is usual when working with web colors.\n",
    "- the edgecolor by passing `ec=color` kwarg\n",
    "- the number of bins by passing the start and stop values for the bins as an array\n",
    "- the color of bar number three using `plt.setp()` to set arbitrary properties of elements in the plot\n",
    "\n",
    "Add\n",
    "-labels for each axis!"
   ]
  },
  {
   "cell_type": "code",
   "execution_count": 368,
   "metadata": {
    "collapsed": false
   },
   "outputs": [
    {
     "name": "stdout",
     "output_type": "stream",
     "text": [
      "Did we really set the bins?\n",
      "Yes!\n"
     ]
    },
    {
     "data": {
      "image/png": "[encoded data removed]",
      "text/plain": [
       "<matplotlib.figure.Figure at 0x7f072e019cd0>"
      ]
     },
     "metadata": {},
     "output_type": "display_data"
    }
   ],
   "source": [
    "# Customizations via kwarg\n",
    "step = 0.2\n",
    "custom_bins = np.arange(-2-0.5*step, 2+0.5*step, step=step)\n",
    "facecolor = [0, 1, 0, 0.75]\n",
    "edgecolor='black'\n",
    "\n",
    "# Drawing the histogram\n",
    "counts, bins, patches = plt.hist(data, \n",
    "                                 fc=facecolor, \n",
    "                                 ec=edgecolor, \n",
    "                                 bins=custom_bins)\n",
    "print 'Did we really set the bins?\\n{}!'.format('Yes' if np.all(bins == custom_bins) else 'No')\n",
    "\n",
    "# Additional customizations after drawing\n",
    "_ = plt.setp(patches[10], fc='red', ec=np.random.uniform(size=3), lw=5, zorder=10)\n",
    "\n",
    "# Adusting the layout\n",
    "plt.xlim(-2, 2)\n",
    "plt.xlabel('value')\n",
    "plt.ylabel('counts')\n",
    "plt.yscale('log')"
   ]
  },
  {
   "cell_type": "markdown",
   "metadata": {},
   "source": [
    "## Multiple datasets\n",
    "Passing severeal plt.hist() commands will put all these histograms into the same axes.\n",
    "To create a legend one has to pass a `label` together with each dataset and call `plt.legend()` in the end."
   ]
  },
  {
   "cell_type": "code",
   "execution_count": 192,
   "metadata": {
    "collapsed": false
   },
   "outputs": [],
   "source": [
    "plt.hist(subset_1, alpha=0.5, ec='k', label='subset 1')\n",
    "plt.hist(subset_2, alpha=0.5, ec='k', label='subset 2')\n",
    "plt.legend()\n",
    "plt.xlabel('x')\n",
    "plt.ylabel('counts')\n",
    "plt.title('Two gaussians')"
   ]
  },
  {
   "cell_type": "code",
   "execution_count": 193,
   "metadata": {
    "collapsed": false
   },
   "outputs": [
    {
     "data": {
      "image/png": "[encoded data removed]",
      "text/plain": [
       "<matplotlib.figure.Figure at 0x7f073812b6d0>"
      ]
     },
     "metadata": {},
     "output_type": "display_data"
    }
   ],
   "source": [
    "reusable_plot()"
   ]
  }
 ],
 "metadata": {
  "kernelspec": {
   "display_name": "Python 2",
   "language": "python",
   "name": "python2"
  },
  "language_info": {
   "codemirror_mode": {
    "name": "ipython",
    "version": 2
   },
   "file_extension": ".py",
   "mimetype": "text/x-python",
   "name": "python",
   "nbconvert_exporter": "python",
   "pygments_lexer": "ipython2",
   "version": "2.7.12"
  }
 },
 "nbformat": 4,
 "nbformat_minor": 0
}
