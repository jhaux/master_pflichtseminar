{
 "cells": [
  {
   "cell_type": "markdown",
   "metadata": {},
   "source": [
    "# Imports\n",
    "\n",
    "All you need for plotting is `matplotlib.pyplot`. `numpy` will be used to create artificial data."
   ]
  },
  {
   "cell_type": "code",
   "execution_count": 1,
   "metadata": {
    "collapsed": false
   },
   "outputs": [],
   "source": [
    "import matplotlib.pyplot as plt\n",
    "import numpy as np\n",
    "%matplotlib inline"
   ]
  },
  {
   "cell_type": "markdown",
   "metadata": {},
   "source": [
    "`%matplotlib inline` is notbook magic to show plots like normal output below notebook cells. This won't work in normal python scripts. To view plots when using normal python scripts use `plt.show()` at the end of creating your plot."
   ]
  },
  {
   "cell_type": "markdown",
   "metadata": {},
   "source": [
    "# Data\n",
    "For the first plot we will use a 1D-array of size [10000] called `data`. Its entries are draw from a gaussian with $\\mathcal{N}(\\mu=0, \\sigma=0.5)$ Later we use similar sets called `subset_1` and `2` with a entries drawn from gaussians with mean $\\mu=-1$ and $\\mu=1$."
   ]
  },
  {
   "cell_type": "code",
   "execution_count": 3,
   "metadata": {
    "collapsed": false
   },
   "outputs": [
    {
     "name": "stdout",
     "output_type": "stream",
     "text": [
      "(10000,)\n"
     ]
    }
   ],
   "source": [
    "size = 10000\n",
    "data = np.random.normal(0, 0.5, size=[size])\n",
    "subset_1 = np.random.normal(-1, 0.5, size=[size])\n",
    "subset_2 = np.random.normal(1, 0.5, size=[size])\n",
    "\n",
    "print data.shape"
   ]
  },
  {
   "cell_type": "markdown",
   "metadata": {},
   "source": [
    "# Histogram"
   ]
  },
  {
   "cell_type": "code",
   "execution_count": 4,
   "metadata": {
    "collapsed": false
   },
   "outputs": [
    {
     "data": {
      "text/plain": [
       "(array([   11.,   100.,   602.,  1640.,  2687.,  2684.,  1609.,   550.,\n",
       "          103.,    14.]),\n",
       " array([-1.82637934, -1.4595595 , -1.09273967, -0.72591983, -0.35909999,\n",
       "         0.00771985,  0.37453969,  0.74135952,  1.10817936,  1.4749992 ,\n",
       "         1.84181904]),\n",
       " <a list of 10 Patch objects>)"
      ]
     },
     "execution_count": 4,
     "metadata": {},
     "output_type": "execute_result"
    },
    {
     "data": {
      "image/png": "[encoded data removed]",
      "text/plain": [
       "<matplotlib.figure.Figure at 0x7f89dc10d8d0>"
      ]
     },
     "metadata": {},
     "output_type": "display_data"
    }
   ],
   "source": [
    "plt.hist(data)"
   ]
  },
  {
   "cell_type": "markdown",
   "metadata": {},
   "source": [
    "## The most important commands\n",
    "\n",
    "Together with an xkcd comic\n",
    "\n",
    "![\"\"](convincing.png \"Labels matter\")\n",
    "\n",
    "Taken from [xkcd](https://xkcd.com/833/)"
   ]
  },
  {
   "cell_type": "code",
   "execution_count": 5,
   "metadata": {
    "collapsed": false
   },
   "outputs": [
    {
     "data": {
      "text/plain": [
       "<matplotlib.text.Text at 0x7f89b3ef1490>"
      ]
     },
     "execution_count": 5,
     "metadata": {},
     "output_type": "execute_result"
    },
    {
     "data": {
      "image/png": "[encoded data removed]",
      "text/plain": [
       "<matplotlib.figure.Figure at 0x7f89b4031210>"
      ]
     },
     "metadata": {},
     "output_type": "display_data"
    }
   ],
   "source": [
    "plt.hist(data)\n",
    "plt.xlabel('value')\n",
    "plt.ylabel('counts')"
   ]
  },
  {
   "cell_type": "markdown",
   "metadata": {},
   "source": [
    "## Customizations: \n",
    "\n",
    "Change\n",
    "- the color of the bars by passing the `fc=color` keyword. The color can be a string with the name of the color, e.g. `'red'`, but also an `rgb` or even `rgba` array like `[0, 0, 1]` or `[0, 0, 1, 0.5]`. Alternatively you can also pass in a string with the hexadecimal description of a color, as is usual when working with web colors.\n",
    "- the edgecolor by passing `ec=color` kwarg\n",
    "- the number of bins by passing the start and stop values for the bins as an array\n",
    "- the color of bar number three using `plt.setp()` to set arbitrary properties of elements in the plot\n",
    "\n",
    "Add\n",
    "-labels for each axis!"
   ]
  },
  {
   "cell_type": "code",
   "execution_count": 6,
   "metadata": {
    "collapsed": false
   },
   "outputs": [
    {
     "name": "stdout",
     "output_type": "stream",
     "text": [
      "Did we really set the bins?\n",
      "Yes!\n"
     ]
    },
    {
     "data": {
      "image/png": "[encoded data removed]",
      "text/plain": [
       "<matplotlib.figure.Figure at 0x7f89b3eea590>"
      ]
     },
     "metadata": {},
     "output_type": "display_data"
    }
   ],
   "source": [
    "# Customizations via kwarg\n",
    "step = 0.2\n",
    "custom_bins = np.arange(-2-0.5*step, 2+0.5*step, step=step)\n",
    "facecolor = [0, 1, 0, 0.75]\n",
    "edgecolor='black'\n",
    "\n",
    "# Drawing the histogram\n",
    "counts, bins, patches = plt.hist(data, \n",
    "                                 fc=facecolor, \n",
    "                                 ec=edgecolor, \n",
    "                                 bins=custom_bins)\n",
    "print 'Did we really set the bins?\\n{}!'.format('Yes' if np.all(bins == custom_bins) else 'No')\n",
    "\n",
    "# Additional customizations after drawing\n",
    "_ = plt.setp(patches[10], fc='red', ec=np.random.uniform(size=3), lw=5, zorder=10)\n",
    "\n",
    "# Adusting the layout\n",
    "plt.xlim(-2, 2)\n",
    "plt.xlabel('value')\n",
    "plt.ylabel('counts')\n",
    "plt.yscale('log')"
   ]
  },
  {
   "cell_type": "markdown",
   "metadata": {},
   "source": [
    "## Multiple datasets\n",
    "Passing severeal plt.hist() commands will put all these histograms into the same axes.\n",
    "To create a legend one has to pass a `label` together with each dataset and call `plt.legend()` in the end."
   ]
  },
  {
   "cell_type": "code",
   "execution_count": 7,
   "metadata": {
    "collapsed": false
   },
   "outputs": [
    {
     "data": {
      "text/plain": [
       "<matplotlib.text.Text at 0x7f89b3b4d450>"
      ]
     },
     "execution_count": 7,
     "metadata": {},
     "output_type": "execute_result"
    },
    {
     "data": {
      "image/png": "[encoded data removed]",
      "text/plain": [
       "<matplotlib.figure.Figure at 0x7f89b3eeab10>"
      ]
     },
     "metadata": {},
     "output_type": "display_data"
    }
   ],
   "source": [
    "plt.hist(subset_1, alpha=0.5, ec='k', label='subset 1')\n",
    "plt.hist(subset_2, alpha=0.5, ec='k', label='subset 2')\n",
    "plt.legend()\n",
    "plt.xlabel('x')\n",
    "plt.ylabel('counts')\n",
    "plt.title('Two gaussians')"
   ]
  }
 ],
 "metadata": {
  "kernelspec": {
   "display_name": "Python 2",
   "language": "python",
   "name": "python2"
  },
  "language_info": {
   "codemirror_mode": {
    "name": "ipython",
    "version": 2
   },
   "file_extension": ".py",
   "mimetype": "text/x-python",
   "name": "python",
   "nbconvert_exporter": "python",
   "pygments_lexer": "ipython2",
   "version": "2.7.12"
  }
 },
 "nbformat": 4,
 "nbformat_minor": 0
}
