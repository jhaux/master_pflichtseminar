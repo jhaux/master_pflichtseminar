{
 "cells": [
  {
   "cell_type": "code",
   "execution_count": 3,
   "metadata": {
    "collapsed": true
   },
   "outputs": [],
   "source": [
    "import matplotlib.pyplot as plt\n",
    "import numpy as np\n",
    "%matplotlib inline"
   ]
  },
  {
   "cell_type": "markdown",
   "metadata": {},
   "source": [
    "# Geometry"
   ]
  },
  {
   "cell_type": "code",
   "execution_count": 4,
   "metadata": {
    "collapsed": true
   },
   "outputs": [],
   "source": [
    "import matplotlib.patches as patches"
   ]
  },
  {
   "cell_type": "code",
   "execution_count": 5,
   "metadata": {
    "collapsed": false
   },
   "outputs": [
    {
     "data": {
      "image/png": "[encoded data removed]",
      "text/plain": [
       "<matplotlib.figure.Figure at 0x7fc5448327d0>"
      ]
     },
     "metadata": {},
     "output_type": "display_data"
    }
   ],
   "source": [
    "rect = patches.Rectangle((-0.5,-0.5), # Bottom left corner, \n",
    "                         1,           # width\n",
    "                         1)           # height, all in data coordinates\n",
    "\n",
    "fig, ax = plt.subplots(1,1)\n",
    "ax.add_patch(rect)\n",
    "ax.set_xlim(-1, 1)\n",
    "ax.set_ylim(-1, 1)\n",
    "ax.set_aspect(1)"
   ]
  },
  {
   "cell_type": "markdown",
   "metadata": {},
   "source": [
    "There are a lot of kwargs you can pass to the patch:\n",
    "- hatch: some patter. e.g: '/', '\\\\', 'o', 'O', '+', '.', '*'\n",
    "- fill: determine if to draw the fillcolor of the patch or not. True or False\n",
    "- alpha: visibilty of the patch\n",
    "- facecolor: color of the patch interior\n",
    "- edgecolor: color of the border\n",
    "- linewidth: thickness of the border\n",
    "- and a lot more. See https://matplotlib.org/api/patches_api.html"
   ]
  },
  {
   "cell_type": "markdown",
   "metadata": {},
   "source": [
    "#### Data"
   ]
  },
  {
   "cell_type": "code",
   "execution_count": 6,
   "metadata": {
    "collapsed": true
   },
   "outputs": [],
   "source": [
    "size = 10\n",
    "Z = np.random.uniform(-1, 1, size=[size, size])"
   ]
  },
  {
   "cell_type": "markdown",
   "metadata": {},
   "source": [
    "#### Plot"
   ]
  },
  {
   "cell_type": "code",
   "execution_count": 55,
   "metadata": {
    "collapsed": false
   },
   "outputs": [],
   "source": [
    "def plot_matrix(ax, values, norm=None):\n",
    "    x_max, y_max = values.shape\n",
    "    \n",
    "    if norm is None:\n",
    "        plot_values = values / np.abs(values).max()\n",
    "    else:\n",
    "        plot_values = values / norm\n",
    "    \n",
    "    for x in range(x_max):\n",
    "        for y in range(y_max):\n",
    "            z = plot_values[x,y]\n",
    "            size = np.abs(z)\n",
    "            color = 'w' if np.sign(z) > 0 else 'k'\n",
    "            rect = patches.Rectangle((x-size/2., y-size/2.), size, size, fc=color)\n",
    "            ax.add_patch(rect)\n",
    "    ax.set_xlim(-1, x_max)\n",
    "    ax.set_ylim(-1, y_max)\n",
    "    ax.set_aspect(1)\n",
    "    ax.set_facecolor('gray')"
   ]
  },
  {
   "cell_type": "code",
   "execution_count": 56,
   "metadata": {
    "collapsed": false
   },
   "outputs": [
    {
     "data": {
      "image/png": "[encoded data removed]",
      "text/plain": [
       "<matplotlib.figure.Figure at 0x7fc53c56c450>"
      ]
     },
     "metadata": {},
     "output_type": "display_data"
    }
   ],
   "source": [
    "fig, ax = plt.subplots()\n",
    "plot_matrix(ax, Z)"
   ]
  },
  {
   "cell_type": "markdown",
   "metadata": {},
   "source": [
    "## Example: Visualizing Matrix Mutiplication"
   ]
  },
  {
   "cell_type": "code",
   "execution_count": 57,
   "metadata": {
    "collapsed": true
   },
   "outputs": [],
   "source": [
    "import matplotlib.gridspec as gridspec"
   ]
  },
  {
   "cell_type": "markdown",
   "metadata": {},
   "source": [
    "#### Data"
   ]
  },
  {
   "cell_type": "code",
   "execution_count": 58,
   "metadata": {
    "collapsed": false
   },
   "outputs": [],
   "source": [
    "A = np.random.uniform(0,1, size=[10,5])\n",
    "B = np.random.uniform(-1,1, size=[5,10])\n",
    "C = np.dot(A, B)\n",
    "\n",
    "gl_max = np.max([np.abs(A).max(), np.abs(B).max(), np.abs(C).max()])"
   ]
  },
  {
   "cell_type": "markdown",
   "metadata": {},
   "source": [
    "#### Plot"
   ]
  },
  {
   "cell_type": "code",
   "execution_count": 59,
   "metadata": {
    "collapsed": true
   },
   "outputs": [],
   "source": [
    "def helper(fig, values, i, j, title, norm=None, sharex=None, sharey=None):\n",
    "    ax = fig.add_subplot(gs[i, j], sharex=sharex, sharey=sharey)\n",
    "    ax.set_aspect(1)\n",
    "    ax.set_title(title)\n",
    "    plot_matrix(ax, values, norm=None)\n",
    "    ax.set_xticks([])\n",
    "    ax.set_yticks([])\n",
    "    \n",
    "    return ax"
   ]
  },
  {
   "cell_type": "code",
   "execution_count": 137,
   "metadata": {
    "collapsed": false
   },
   "outputs": [
    {
     "data": {
      "text/plain": [
       "<matplotlib.patches.Rectangle at 0x7fc534a9d990>"
      ]
     },
     "execution_count": 137,
     "metadata": {},
     "output_type": "execute_result"
    },
    {
     "data": {
      "image/png": "[encoded data removed]",
      "text/plain": [
       "<matplotlib.figure.Figure at 0x7fc537281e50>"
      ]
     },
     "metadata": {},
     "output_type": "display_data"
    }
   ],
   "source": [
    "gs = gridspec.GridSpec(2,2, width_ratios=[0.5, 1], height_ratios=[0.5, 1])\n",
    "fig = plt.figure(figsize=(8,8))\n",
    "\n",
    "axA = helper(fig, A, 0, 1, 'A', norm=gl_max)\n",
    "axB = helper(fig, B, 1, 0, 'B', norm=gl_max)\n",
    "axC = helper(fig, C, 1, 1, 'C', norm=gl_max, sharex=axA, sharey=axB)\n",
    "\n",
    "ax_leg = fig.add_subplot(gs[0,0], sharex=axC, sharey=axC)\n",
    "ax_leg.axis('off')\n",
    "\n",
    "shift_x = 1\n",
    "shift_y = 1\n",
    "w = 7\n",
    "ax_leg.add_patch(patches.Rectangle((shift_x, shift_y), w, w, fc='lightgray'))\n",
    "ax_leg.text(w/2.+shift_x, w+1+shift_y, \"Legend\", horizontalalignment='center')\n",
    "for i in range(2):\n",
    "    i_s = i * 1.5\n",
    "    i_s += shift_x + 2\n",
    "    for j, size in enumerate(np.linspace(0.5, gl_max, num=4)):\n",
    "        j_s = j * 1.2\n",
    "        j_s += shift_y + 1\n",
    "        \n",
    "        color = 'w' if i == 0 else 'k'\n",
    "        size_plt = round(size/gl_max, 1) \n",
    "        \n",
    "        ax_leg.add_patch(patches.Rectangle((i_s-size_plt/2., j_s-size_plt/2.), size_plt, size_plt, fc=color))\n",
    "        \n",
    "        if i == 0:\n",
    "            ax_leg.text(shift_x + 5, j_s+0.2, '{}'.format(round(size,1)), verticalalignment='center', color='r')\n",
    "        if j == 0:\n",
    "            sign = -1 if i == 0 else 1\n",
    "            ax_leg.text(i_s-0.2, shift_y + 5.5, '{}'.format(sign))\n",
    "            \n",
    "i, j = 4, 5\n",
    "axA.axvline(i-0.5, color='r')\n",
    "axA.axvline(i+0.5, color='r')\n",
    "axB.axhline(j-0.5, color='r')\n",
    "axB.axhline(j+0.5, color='r')\n",
    "\n",
    "axC.axvline(i-0.5, color='k', ls='--')\n",
    "axC.axvline(i+0.5, color='k', ls='--')\n",
    "axC.axhline(j-0.5, color='k', ls='--')\n",
    "axC.axhline(j+0.5, color='k', ls='--')\n",
    "\n",
    "axC.add_patch(patches.Rectangle((i-0.5, j-0.5), 1, 1, ec='r', fill=False, zorder=100, lw=2))"
   ]
  },
  {
   "cell_type": "code",
   "execution_count": null,
   "metadata": {
    "collapsed": true
   },
   "outputs": [],
   "source": []
  },
  {
   "cell_type": "code",
   "execution_count": null,
   "metadata": {
    "collapsed": true
   },
   "outputs": [],
   "source": []
  }
 ],
 "metadata": {
  "kernelspec": {
   "display_name": "Python 2",
   "language": "python",
   "name": "python2"
  },
  "language_info": {
   "codemirror_mode": {
    "name": "ipython",
    "version": 2
   },
   "file_extension": ".py",
   "mimetype": "text/x-python",
   "name": "python",
   "nbconvert_exporter": "python",
   "pygments_lexer": "ipython2",
   "version": "2.7.12"
  }
 },
 "nbformat": 4,
 "nbformat_minor": 0
}
